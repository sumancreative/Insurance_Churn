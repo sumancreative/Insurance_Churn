{
 "cells": [
  {
   "cell_type": "code",
   "execution_count": null,
   "id": "b3280b34-4c2f-4cd9-8bd0-f7ec67ac4ecd",
   "metadata": {},
   "outputs": [],
   "source": [
    "import pandas as pd\n",
    "path='s3://churn-model-data-suman/insurance-churn-2022-09-25T11-25-25/part-00000-73267f7e-66b8-4217-a095-d1e9e722aa27-c000.csv'\n",
    "df = pd.read_csv(path)\n",
    "df.head(2)"
   ]
  },
  {
   "cell_type": "code",
   "execution_count": null,
   "id": "ff9e5548-5900-4e74-8cda-4ab58d58d297",
   "metadata": {},
   "outputs": [],
   "source": [
    "df.isnull().sum()"
   ]
  },
  {
   "cell_type": "code",
   "execution_count": null,
   "id": "edb1b47b-d577-4a11-aac4-47f5f9a7a43a",
   "metadata": {},
   "outputs": [],
   "source": [
    "latest_df = df.drop(columns = ['Customer Name','Company Name'])\n",
    "latest_df.shape"
   ]
  },
  {
   "cell_type": "code",
   "execution_count": null,
   "id": "38376dd7-535a-408c-9214-7b82a30ac4f4",
   "metadata": {},
   "outputs": [],
   "source": [
    "latest_df = latest_df.fillna(df.mean)\n",
    "latest_df.shape"
   ]
  },
  {
   "cell_type": "code",
   "execution_count": null,
   "id": "39a948ab-ac3a-467d-9a65-d81a433cbe81",
   "metadata": {},
   "outputs": [],
   "source": [
    "import numpy as py\n",
    "x=py.array(latest_df)"
   ]
  },
  {
   "cell_type": "code",
   "execution_count": null,
   "id": "ee4b7053-e244-4073-9e99-251c3bd3a051",
   "metadata": {
    "tags": []
   },
   "outputs": [],
   "source": [
    "from sklearn.model_selection import train_test_split\n",
    "x_train1, x_test = train_test_split(x,test_size = 0.05)\n",
    "x_train,x_validate = train_test_split(x_train1,test_size = 0.4)\n",
    "x_test_df = pd.DataFrame(x_test)\n",
    "x_test_df1 = x_test_df.drop(columns = [0])\n",
    "x_test = py.array(x_test_df1)"
   ]
  },
  {
   "cell_type": "code",
   "execution_count": null,
   "id": "987115dc-a516-407a-b719-96a5792f0425",
   "metadata": {},
   "outputs": [],
   "source": [
    "x_validate.shape"
   ]
  },
  {
   "cell_type": "code",
   "execution_count": null,
   "id": "fc5f5700-d912-4297-a892-b2a4ab1af5c2",
   "metadata": {},
   "outputs": [],
   "source": [
    "x_test.shape"
   ]
  },
  {
   "cell_type": "code",
   "execution_count": null,
   "id": "79eb3cf7-1fe0-412d-b15f-fb91a5e6bd4d",
   "metadata": {},
   "outputs": [],
   "source": [
    "import sagemaker\n",
    "import boto3\n",
    "from sagemaker import Session\n",
    "Sagemaker_sesion = sagemaker.Session()\n",
    "role = sagemaker.get_execution_role()\n",
    "region = boto3.Session().region_name\n",
    "train_df = pd.DataFrame(x_train)\n",
    "test_df = pd.DataFrame(x_validate)\n",
    "train_df.to_csv(\"s3://churn-model-data-suman/xgboost-model-datasets/xgboot-train.csv\",header = False, index = False)\n",
    "test_df.to_csv(\"s3://churn-model-data-suman/xgboost-model-datasets/xgboot-test.csv\",header = False, index = False)\n",
    "target_path = \"s3://churn-model-data-suman/xgboost-model-datasets/xgboot-train.csv\"\n",
    "test_path = \"s3://churn-model-data-suman/xgboost-model-datasets/xgboot-test.csv\"\n",
    "output = \"s3://churn-model-data-suman/xgboost_model-artifact/output\""
   ]
  },
  {
   "cell_type": "code",
   "execution_count": null,
   "id": "5f33bd3a-ca8b-4b19-9e24-251405edfd54",
   "metadata": {},
   "outputs": [],
   "source": [
    "#pip install -U sagemaker"
   ]
  },
  {
   "cell_type": "code",
   "execution_count": null,
   "id": "fda41b1b-5de9-4d3c-9387-1a45f5e0c733",
   "metadata": {},
   "outputs": [],
   "source": [
    "container = sagemaker.image_uris.retrieve(\"xgboost\",region,version = '1.0-1')"
   ]
  },
  {
   "cell_type": "code",
   "execution_count": null,
   "id": "0d17315d-bb45-45fa-86ed-edd2d855f3b8",
   "metadata": {},
   "outputs": [],
   "source": [
    "XGboost_regression = sagemaker.estimator.Estimator(container,\n",
    "                                                  role,\n",
    "                                                  instance_count = 1,\n",
    "                                                  instance_type = 'ml.m4.xlarge',\n",
    "                                                   output_path = output,\n",
    "                                                   sagemaker_session = Sagemaker_sesion\n",
    "                                                  )\n",
    "XGboost_regression.set_hyperparameters(max_depth = 10,\n",
    "                                       objective = 'binary:logistic',\n",
    "                                       colsample_bytree = 0.3,\n",
    "                                       alpha = 2,\n",
    "                                       eta = 0.3 ,\n",
    "                                      num_round = 200)"
   ]
  },
  {
   "cell_type": "code",
   "execution_count": null,
   "id": "88103a7a-0075-43b9-9fb0-d190c3841e1a",
   "metadata": {},
   "outputs": [],
   "source": [
    "target_input = sagemaker.session.TrainingInput(s3_data = target_path,content_type = 'csv',s3_data_type = 'S3Prefix')\n",
    "validation_input = sagemaker.session.TrainingInput(s3_data = test_path,content_type = 'csv',s3_data_type = 'S3Prefix')"
   ]
  },
  {
   "cell_type": "code",
   "execution_count": null,
   "id": "5079c644-1c13-47c5-8641-fbf9dd47a5ee",
   "metadata": {},
   "outputs": [],
   "source": [
    "data_channel = {'train': target_input , 'validation' :  validation_input }\n",
    "XGboost_regression.fit(data_channel)"
   ]
  },
  {
   "cell_type": "code",
   "execution_count": null,
   "id": "bc80a622-9a84-40ee-95ad-66b5773173bd",
   "metadata": {},
   "outputs": [],
   "source": [
    "predictor = XGboost_regression.deploy(initial_instance_count = 1, instance_type = 'ml.m4.xlarge')"
   ]
  },
  {
   "cell_type": "code",
   "execution_count": null,
   "id": "59e9dce3-a4e5-45ac-88b2-461e85454478",
   "metadata": {},
   "outputs": [],
   "source": [
    "predictor.endpoint_name"
   ]
  },
  {
   "cell_type": "code",
   "execution_count": null,
   "id": "0bff36c0-cdeb-43d8-a34f-811f246d45d7",
   "metadata": {},
   "outputs": [],
   "source": [
    "x_test_df.head(20)"
   ]
  },
  {
   "cell_type": "code",
   "execution_count": null,
   "id": "28b3b1de-08cf-4ce7-a2d0-aca7d96a7713",
   "metadata": {},
   "outputs": [],
   "source": [
    "from sagemaker.predictor import csv_serializer\n",
    "predictor.serializer = csv_serializer\n",
    "predictions = predictor.predict(x_test)"
   ]
  },
  {
   "cell_type": "code",
   "execution_count": null,
   "id": "17009f11-5722-4705-b97d-98e167d998b7",
   "metadata": {},
   "outputs": [],
   "source": [
    "pred_st = str(predictions).split(',')\n",
    "pred_st[0] = pred_st[0][2:]\n",
    "pred_st[-1] = pred_st[-1][:-1]\n",
    "for i in range(len(pred_st)) :\n",
    "    pred_st[i] = float(pred_st[i])"
   ]
  },
  {
   "cell_type": "code",
   "execution_count": null,
   "id": "1e3e0be7-27d7-4809-bd82-b20567b9fd0c",
   "metadata": {},
   "outputs": [],
   "source": [
    "import   matplotlib.pyplot as  plt\n",
    "y_test_df1 = x_test_df[0]\n",
    "y_test = py.array(y_test_df1)\n",
    "plt.scatter(pred_st,y_test)\n",
    "plt.show()"
   ]
  },
  {
   "cell_type": "code",
   "execution_count": null,
   "id": "bbf73448-76e7-4562-b61c-5e5920164dc7",
   "metadata": {},
   "outputs": [],
   "source": [
    "from sklearn.metrics import r2_score, mean_squared_error, mean_absolute_error\n",
    "from math import sqrt\n",
    "k = x_test.shape[1]\n",
    "n = len(x_test)\n",
    "RMSE = float(format(py.sqrt(mean_squared_error(y_test, pred_st)),'.3f'))\n",
    "MSE = mean_squared_error(y_test, pred_st)\n",
    "MAE = mean_absolute_error(y_test, pred_st)\n",
    "r2 = r2_score(y_test, pred_st)\n",
    "adj_r2 = 1-(1-r2)*(n-1)/(n-k-1)\n",
    "print('RMSE =',RMSE, '\\nMSE =',MSE, '\\nMAE =',MAE, '\\nR2 =', r2, '\\nAdjusted R2 =', adj_r2)"
   ]
  },
  {
   "cell_type": "code",
   "execution_count": null,
   "id": "3ccac6f8-8fb5-4f9f-97b2-922acaf542ed",
   "metadata": {},
   "outputs": [],
   "source": []
  }
 ],
 "metadata": {
  "instance_type": "ml.t3.medium",
  "kernelspec": {
   "display_name": "Python 3 (Data Science)",
   "language": "python",
   "name": "python3__SAGEMAKER_INTERNAL__arn:aws:sagemaker:us-east-1:081325390199:image/datascience-1.0"
  },
  "language_info": {
   "codemirror_mode": {
    "name": "ipython",
    "version": 3
   },
   "file_extension": ".py",
   "mimetype": "text/x-python",
   "name": "python",
   "nbconvert_exporter": "python",
   "pygments_lexer": "ipython3",
   "version": "3.7.10"
  }
 },
 "nbformat": 4,
 "nbformat_minor": 5
}
